number = int(input("Please enter number : "))
list = []
for i in range(2,number):
  if number%i == 0:
    list.append(i)

if len(list):
  print(f"{number} is not a prime number.")
else:
  print(f"{number} is a prime number.")
